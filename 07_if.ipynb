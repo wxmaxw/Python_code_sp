{
 "cells": [
  {
   "cell_type": "code",
   "execution_count": 1,
   "metadata": {},
   "outputs": [
    {
     "name": "stdout",
     "output_type": "stream",
     "text": [
      "mervecik\n"
     ]
    }
   ],
   "source": [
    "if 3 > 1 :\n",
    "    print(\"mervecik\")"
   ]
  },
  {
   "cell_type": "code",
   "execution_count": 2,
   "metadata": {},
   "outputs": [],
   "source": [
    "x = 4\n",
    "y = 4"
   ]
  },
  {
   "cell_type": "code",
   "execution_count": null,
   "metadata": {},
   "outputs": [],
   "source": [
    "if x > y:\n",
    "    print(\"x büyük y\")\n",
    "elif y > x :\n",
    "    print(\"y büyük x\")\n",
    "else:\n",
    "    print(\"x ve y birbirine eşittir\")        "
   ]
  },
  {
   "cell_type": "code",
   "execution_count": 8,
   "metadata": {},
   "outputs": [
    {
     "name": "stdout",
     "output_type": "stream",
     "text": [
      "You choose Spiderman, congratulations !!\n"
     ]
    }
   ],
   "source": [
    "myHero = input(\"Please select super hero: \")\n",
    "myHero= myHero.lower()\n",
    "\n",
    "if myHero == \"spiderman\":\n",
    "    print(\"You choose Spiderman, congratulations !!\")\n",
    "elif myHero == \"batman\":   \n",
    "    print(\"I wish you had chosen Spiderman\")\n",
    "else:\n",
    "    print(\"Who is that? we cant recognize her/him\") "
   ]
  },
  {
   "cell_type": "code",
   "execution_count": 9,
   "metadata": {},
   "outputs": [
    {
     "name": "stdout",
     "output_type": "stream",
     "text": [
      "Salak ifadesi var\n"
     ]
    }
   ],
   "source": [
    "myString = \"Merve bir miktar salak olabilir sadece bi miktar ama \"\n",
    "\n",
    "if \"salak\" in myString:\n",
    "    print(\"Salak ifadesi var\")\n",
    "else:\n",
    "    print(\"Salak ifadesi yok\")    "
   ]
  },
  {
   "cell_type": "code",
   "execution_count": null,
   "metadata": {},
   "outputs": [],
   "source": [
    "myList = [10,20,30,40,50]\n",
    "if 60 in myList:\n",
    "    print(\"Listede 60 var\")"
   ]
  },
  {
   "cell_type": "code",
   "execution_count": 12,
   "metadata": {},
   "outputs": [
    {
     "data": {
      "text/plain": [
       "dict_keys(['muz', 'elma', 'karpuz'])"
      ]
     },
     "execution_count": 12,
     "metadata": {},
     "output_type": "execute_result"
    }
   ],
   "source": [
    "myDictionary = {\"muz\" : 100, \"elma\" : 150, \"karpuz\": 500}\n",
    "myDictionary.keys()"
   ]
  },
  {
   "cell_type": "code",
   "execution_count": 13,
   "metadata": {},
   "outputs": [
    {
     "name": "stdout",
     "output_type": "stream",
     "text": [
      "varmış\n"
     ]
    }
   ],
   "source": [
    "if \"muz\" in myDictionary.keys():\n",
    "    print(\"varmış\")"
   ]
  },
  {
   "cell_type": "code",
   "execution_count": 15,
   "metadata": {},
   "outputs": [],
   "source": [
    "if 250 in myDictionary.values():\n",
    "    print(\"evet\")"
   ]
  },
  {
   "cell_type": "code",
   "execution_count": null,
   "metadata": {},
   "outputs": [],
   "source": []
  }
 ],
 "metadata": {
  "kernelspec": {
   "display_name": "Python 3",
   "language": "python",
   "name": "python3"
  },
  "language_info": {
   "codemirror_mode": {
    "name": "ipython",
    "version": 3
   },
   "file_extension": ".py",
   "mimetype": "text/x-python",
   "name": "python",
   "nbconvert_exporter": "python",
   "pygments_lexer": "ipython3",
   "version": "3.10.11"
  }
 },
 "nbformat": 4,
 "nbformat_minor": 2
}
